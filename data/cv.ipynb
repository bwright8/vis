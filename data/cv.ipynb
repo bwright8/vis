{
 "cells": [
  {
   "cell_type": "code",
   "execution_count": 1,
   "id": "3106c89e",
   "metadata": {},
   "outputs": [],
   "source": [
    "import pandas as pd\n",
    "import sklearn\n",
    "import numpy as np\n",
    "from sklearn.ensemble import RandomForestClassifier"
   ]
  },
  {
   "cell_type": "code",
   "execution_count": 2,
   "id": "55252859",
   "metadata": {},
   "outputs": [],
   "source": [
    "appRecord = pd.read_csv(\"application_record.csv\");\n",
    "creditRecord = pd.read_csv(\"credit_record.csv\");"
   ]
  },
  {
   "cell_type": "code",
   "execution_count": 3,
   "id": "4e327f99",
   "metadata": {},
   "outputs": [],
   "source": [
    "creditRecord.insert(1,\"STATUSINT\",creditRecord['STATUS']);"
   ]
  },
  {
   "cell_type": "code",
   "execution_count": 4,
   "id": "b622f056",
   "metadata": {},
   "outputs": [],
   "source": [
    "def statusToInt(status):\n",
    "    if status == \"X\": return 0\n",
    "    elif status == \"C\": return 0\n",
    "    elif status == \"0\": return 1\n",
    "    elif status == \"1\": return 2\n",
    "    elif status == \"2\": return 3\n",
    "    elif status == \"3\": return 4\n",
    "    elif status == \"4\": return 5\n",
    "    else: return 6"
   ]
  },
  {
   "cell_type": "code",
   "execution_count": 5,
   "id": "a792a5ac",
   "metadata": {},
   "outputs": [],
   "source": [
    "creditRecord[\"STATUSINT\"]=creditRecord[\"STATUS\"].map(statusToInt)"
   ]
  },
  {
   "cell_type": "code",
   "execution_count": 6,
   "id": "28016161",
   "metadata": {},
   "outputs": [],
   "source": [
    "creditRecord.insert(1,\"TOTALMONTH\",creditRecord['MONTHS_BALANCE']);"
   ]
  },
  {
   "cell_type": "code",
   "execution_count": 7,
   "id": "2b73daa4",
   "metadata": {},
   "outputs": [],
   "source": [
    "creditRecord[\"TOTALMONTH\"]=creditRecord[\"MONTHS_BALANCE\"].map(lambda x: -1*x);"
   ]
  },
  {
   "cell_type": "code",
   "execution_count": 8,
   "id": "2a42f1c6",
   "metadata": {},
   "outputs": [],
   "source": [
    "maximum = creditRecord.groupby(\"ID\").max()"
   ]
  },
  {
   "cell_type": "code",
   "execution_count": 9,
   "id": "795e6aeb",
   "metadata": {},
   "outputs": [],
   "source": [
    "average = creditRecord.groupby(\"ID\").mean()"
   ]
  },
  {
   "cell_type": "code",
   "execution_count": 10,
   "id": "ae1364b8",
   "metadata": {},
   "outputs": [
    {
     "data": {
      "text/html": [
       "<div>\n",
       "<style scoped>\n",
       "    .dataframe tbody tr th:only-of-type {\n",
       "        vertical-align: middle;\n",
       "    }\n",
       "\n",
       "    .dataframe tbody tr th {\n",
       "        vertical-align: top;\n",
       "    }\n",
       "\n",
       "    .dataframe thead th {\n",
       "        text-align: right;\n",
       "    }\n",
       "</style>\n",
       "<table border=\"1\" class=\"dataframe\">\n",
       "  <thead>\n",
       "    <tr style=\"text-align: right;\">\n",
       "      <th></th>\n",
       "      <th>TOTALMONTH</th>\n",
       "    </tr>\n",
       "    <tr>\n",
       "      <th>ID</th>\n",
       "      <th></th>\n",
       "    </tr>\n",
       "  </thead>\n",
       "  <tbody>\n",
       "    <tr>\n",
       "      <th>5001711</th>\n",
       "      <td>3</td>\n",
       "    </tr>\n",
       "    <tr>\n",
       "      <th>5001712</th>\n",
       "      <td>18</td>\n",
       "    </tr>\n",
       "    <tr>\n",
       "      <th>5001713</th>\n",
       "      <td>21</td>\n",
       "    </tr>\n",
       "    <tr>\n",
       "      <th>5001714</th>\n",
       "      <td>14</td>\n",
       "    </tr>\n",
       "    <tr>\n",
       "      <th>5001715</th>\n",
       "      <td>59</td>\n",
       "    </tr>\n",
       "  </tbody>\n",
       "</table>\n",
       "</div>"
      ],
      "text/plain": [
       "         TOTALMONTH\n",
       "ID                 \n",
       "5001711           3\n",
       "5001712          18\n",
       "5001713          21\n",
       "5001714          14\n",
       "5001715          59"
      ]
     },
     "execution_count": 10,
     "metadata": {},
     "output_type": "execute_result"
    }
   ],
   "source": [
    "del maximum['STATUSINT']\n",
    "del maximum['MONTHS_BALANCE']\n",
    "del maximum['STATUS']\n",
    "maximum.head()"
   ]
  },
  {
   "cell_type": "code",
   "execution_count": 11,
   "id": "cc853739",
   "metadata": {},
   "outputs": [],
   "source": [
    "customData = data = pd.merge(\n",
    "    maximum,\n",
    "    average,\n",
    "    on=\"ID\",\n",
    "    how=\"inner\"\n",
    ")\n",
    "data = pd.merge(\n",
    "    appRecord,\n",
    "    customData,\n",
    "    on=\"ID\",\n",
    "    how=\"inner\"\n",
    ")\n"
   ]
  },
  {
   "cell_type": "code",
   "execution_count": 12,
   "id": "c97e7757",
   "metadata": {},
   "outputs": [
    {
     "data": {
      "text/html": [
       "<div>\n",
       "<style scoped>\n",
       "    .dataframe tbody tr th:only-of-type {\n",
       "        vertical-align: middle;\n",
       "    }\n",
       "\n",
       "    .dataframe tbody tr th {\n",
       "        vertical-align: top;\n",
       "    }\n",
       "\n",
       "    .dataframe thead th {\n",
       "        text-align: right;\n",
       "    }\n",
       "</style>\n",
       "<table border=\"1\" class=\"dataframe\">\n",
       "  <thead>\n",
       "    <tr style=\"text-align: right;\">\n",
       "      <th></th>\n",
       "      <th>CODE_GENDER</th>\n",
       "      <th>FLAG_OWN_CAR</th>\n",
       "      <th>FLAG_OWN_REALTY</th>\n",
       "      <th>CNT_CHILDREN</th>\n",
       "      <th>AMT_INCOME_TOTAL</th>\n",
       "      <th>NAME_INCOME_TYPE</th>\n",
       "      <th>NAME_EDUCATION_TYPE</th>\n",
       "      <th>NAME_FAMILY_STATUS</th>\n",
       "      <th>NAME_HOUSING_TYPE</th>\n",
       "      <th>DAYS_BIRTH</th>\n",
       "      <th>DAYS_EMPLOYED</th>\n",
       "      <th>FLAG_MOBIL</th>\n",
       "      <th>FLAG_WORK_PHONE</th>\n",
       "      <th>FLAG_PHONE</th>\n",
       "      <th>FLAG_EMAIL</th>\n",
       "      <th>OCCUPATION_TYPE</th>\n",
       "      <th>CNT_FAM_MEMBERS</th>\n",
       "      <th>TOTALMONTH_x</th>\n",
       "    </tr>\n",
       "  </thead>\n",
       "  <tbody>\n",
       "    <tr>\n",
       "      <th>0</th>\n",
       "      <td>M</td>\n",
       "      <td>Y</td>\n",
       "      <td>Y</td>\n",
       "      <td>0</td>\n",
       "      <td>427500.0</td>\n",
       "      <td>Working</td>\n",
       "      <td>Higher education</td>\n",
       "      <td>Civil marriage</td>\n",
       "      <td>Rented apartment</td>\n",
       "      <td>-12005</td>\n",
       "      <td>-4542</td>\n",
       "      <td>1</td>\n",
       "      <td>1</td>\n",
       "      <td>0</td>\n",
       "      <td>0</td>\n",
       "      <td>NaN</td>\n",
       "      <td>2.0</td>\n",
       "      <td>15</td>\n",
       "    </tr>\n",
       "    <tr>\n",
       "      <th>1</th>\n",
       "      <td>M</td>\n",
       "      <td>Y</td>\n",
       "      <td>Y</td>\n",
       "      <td>0</td>\n",
       "      <td>427500.0</td>\n",
       "      <td>Working</td>\n",
       "      <td>Higher education</td>\n",
       "      <td>Civil marriage</td>\n",
       "      <td>Rented apartment</td>\n",
       "      <td>-12005</td>\n",
       "      <td>-4542</td>\n",
       "      <td>1</td>\n",
       "      <td>1</td>\n",
       "      <td>0</td>\n",
       "      <td>0</td>\n",
       "      <td>NaN</td>\n",
       "      <td>2.0</td>\n",
       "      <td>14</td>\n",
       "    </tr>\n",
       "    <tr>\n",
       "      <th>2</th>\n",
       "      <td>M</td>\n",
       "      <td>Y</td>\n",
       "      <td>Y</td>\n",
       "      <td>0</td>\n",
       "      <td>112500.0</td>\n",
       "      <td>Working</td>\n",
       "      <td>Secondary / secondary special</td>\n",
       "      <td>Married</td>\n",
       "      <td>House / apartment</td>\n",
       "      <td>-21474</td>\n",
       "      <td>-1134</td>\n",
       "      <td>1</td>\n",
       "      <td>0</td>\n",
       "      <td>0</td>\n",
       "      <td>0</td>\n",
       "      <td>Security staff</td>\n",
       "      <td>2.0</td>\n",
       "      <td>29</td>\n",
       "    </tr>\n",
       "    <tr>\n",
       "      <th>3</th>\n",
       "      <td>F</td>\n",
       "      <td>N</td>\n",
       "      <td>Y</td>\n",
       "      <td>0</td>\n",
       "      <td>270000.0</td>\n",
       "      <td>Commercial associate</td>\n",
       "      <td>Secondary / secondary special</td>\n",
       "      <td>Single / not married</td>\n",
       "      <td>House / apartment</td>\n",
       "      <td>-19110</td>\n",
       "      <td>-3051</td>\n",
       "      <td>1</td>\n",
       "      <td>0</td>\n",
       "      <td>1</td>\n",
       "      <td>1</td>\n",
       "      <td>Sales staff</td>\n",
       "      <td>1.0</td>\n",
       "      <td>4</td>\n",
       "    </tr>\n",
       "    <tr>\n",
       "      <th>4</th>\n",
       "      <td>F</td>\n",
       "      <td>N</td>\n",
       "      <td>Y</td>\n",
       "      <td>0</td>\n",
       "      <td>270000.0</td>\n",
       "      <td>Commercial associate</td>\n",
       "      <td>Secondary / secondary special</td>\n",
       "      <td>Single / not married</td>\n",
       "      <td>House / apartment</td>\n",
       "      <td>-19110</td>\n",
       "      <td>-3051</td>\n",
       "      <td>1</td>\n",
       "      <td>0</td>\n",
       "      <td>1</td>\n",
       "      <td>1</td>\n",
       "      <td>Sales staff</td>\n",
       "      <td>1.0</td>\n",
       "      <td>26</td>\n",
       "    </tr>\n",
       "  </tbody>\n",
       "</table>\n",
       "</div>"
      ],
      "text/plain": [
       "  CODE_GENDER FLAG_OWN_CAR FLAG_OWN_REALTY  CNT_CHILDREN  AMT_INCOME_TOTAL  \\\n",
       "0           M            Y               Y             0          427500.0   \n",
       "1           M            Y               Y             0          427500.0   \n",
       "2           M            Y               Y             0          112500.0   \n",
       "3           F            N               Y             0          270000.0   \n",
       "4           F            N               Y             0          270000.0   \n",
       "\n",
       "       NAME_INCOME_TYPE            NAME_EDUCATION_TYPE    NAME_FAMILY_STATUS  \\\n",
       "0               Working               Higher education        Civil marriage   \n",
       "1               Working               Higher education        Civil marriage   \n",
       "2               Working  Secondary / secondary special               Married   \n",
       "3  Commercial associate  Secondary / secondary special  Single / not married   \n",
       "4  Commercial associate  Secondary / secondary special  Single / not married   \n",
       "\n",
       "   NAME_HOUSING_TYPE  DAYS_BIRTH  DAYS_EMPLOYED  FLAG_MOBIL  FLAG_WORK_PHONE  \\\n",
       "0   Rented apartment      -12005          -4542           1                1   \n",
       "1   Rented apartment      -12005          -4542           1                1   \n",
       "2  House / apartment      -21474          -1134           1                0   \n",
       "3  House / apartment      -19110          -3051           1                0   \n",
       "4  House / apartment      -19110          -3051           1                0   \n",
       "\n",
       "   FLAG_PHONE  FLAG_EMAIL OCCUPATION_TYPE  CNT_FAM_MEMBERS  TOTALMONTH_x  \n",
       "0           0           0             NaN              2.0            15  \n",
       "1           0           0             NaN              2.0            14  \n",
       "2           0           0  Security staff              2.0            29  \n",
       "3           1           1     Sales staff              1.0             4  \n",
       "4           1           1     Sales staff              1.0            26  "
      ]
     },
     "execution_count": 12,
     "metadata": {},
     "output_type": "execute_result"
    }
   ],
   "source": [
    "# Everything before the last column and the first column is a feature for a crude model. \n",
    "X = data.iloc[:data.size,1:19];\n",
    "X.head()"
   ]
  },
  {
   "cell_type": "code",
   "execution_count": 13,
   "id": "4999ca39",
   "metadata": {},
   "outputs": [
    {
     "data": {
      "text/html": [
       "<div>\n",
       "<style scoped>\n",
       "    .dataframe tbody tr th:only-of-type {\n",
       "        vertical-align: middle;\n",
       "    }\n",
       "\n",
       "    .dataframe tbody tr th {\n",
       "        vertical-align: top;\n",
       "    }\n",
       "\n",
       "    .dataframe thead th {\n",
       "        text-align: right;\n",
       "    }\n",
       "</style>\n",
       "<table border=\"1\" class=\"dataframe\">\n",
       "  <thead>\n",
       "    <tr style=\"text-align: right;\">\n",
       "      <th></th>\n",
       "      <th>TOTALMONTH_y</th>\n",
       "    </tr>\n",
       "  </thead>\n",
       "  <tbody>\n",
       "    <tr>\n",
       "      <th>0</th>\n",
       "      <td>7.5</td>\n",
       "    </tr>\n",
       "    <tr>\n",
       "      <th>1</th>\n",
       "      <td>7.0</td>\n",
       "    </tr>\n",
       "    <tr>\n",
       "      <th>2</th>\n",
       "      <td>14.5</td>\n",
       "    </tr>\n",
       "    <tr>\n",
       "      <th>3</th>\n",
       "      <td>2.0</td>\n",
       "    </tr>\n",
       "    <tr>\n",
       "      <th>4</th>\n",
       "      <td>24.0</td>\n",
       "    </tr>\n",
       "  </tbody>\n",
       "</table>\n",
       "</div>"
      ],
      "text/plain": [
       "   TOTALMONTH_y\n",
       "0           7.5\n",
       "1           7.0\n",
       "2          14.5\n",
       "3           2.0\n",
       "4          24.0"
      ]
     },
     "execution_count": 13,
     "metadata": {},
     "output_type": "execute_result"
    }
   ],
   "source": [
    "y = data.iloc[:data.size,19:20];\n",
    "y.head()"
   ]
  },
  {
   "cell_type": "code",
   "execution_count": 18,
   "id": "ebc0f9db",
   "metadata": {},
   "outputs": [],
   "source": [
    "from sklearn.preprocessing import LabelEncoder,OneHotEncoder\n",
    "label_encoder = LabelEncoder();\n",
    "X['CODE_GENDER'] = label_encoder.fit_transform(X['CODE_GENDER']);\n",
    "X['FLAG_OWN_CAR'] = label_encoder.fit_transform(X['FLAG_OWN_CAR']);\n",
    "X['FLAG_OWN_REALTY'] = label_encoder.fit_transform(X['FLAG_OWN_REALTY']);\n",
    "X['NAME_INCOME_TYPE'] = label_encoder.fit_transform(X['NAME_INCOME_TYPE']);\n",
    "X['NAME_EDUCATION_TYPE'] = label_encoder.fit_transform(X['NAME_EDUCATION_TYPE']);\n",
    "X['NAME_FAMILY_STATUS'] = label_encoder.fit_transform(X['NAME_FAMILY_STATUS']);\n",
    "X['NAME_HOUSING_TYPE'] = label_encoder.fit_transform(X['NAME_HOUSING_TYPE']);\n",
    "\"\"\"\n",
    "Some people don't have occupation information. This will throw a TypeError for the label_encoder. Let's fix this. \n",
    "\"\"\"\n",
    "def jobEncodingPrep(status):\n",
    "    #print(status)\n",
    "    if pd.isna(status) : return \"No Job Info\"\n",
    "    else: return status\n",
    "X[\"OCCUPATION_TYPE\"]=X[\"OCCUPATION_TYPE\"].map(jobEncodingPrep)\n",
    "#print(X)\n",
    "\n",
    "# This is a dumb encoding, as occupation should be one-hot encoded. \n",
    "X['OCCUPATION_TYPE'] = label_encoder.fit_transform(X['OCCUPATION_TYPE']);"
   ]
  },
  {
   "cell_type": "code",
   "execution_count": 26,
   "id": "033af292",
   "metadata": {},
   "outputs": [
    {
     "name": "stdout",
     "output_type": "stream",
     "text": [
      "0.9689873625239425\n"
     ]
    }
   ],
   "source": [
    "from sklearn.ensemble import RandomForestRegressor\n",
    "# as a test, make a forest model with just a single feature. \n",
    "clf = RandomForestRegressor();\n",
    "clf.fit(X, np.ravel(y))\n",
    "print(clf.score(X,np.ravel(y)));"
   ]
  },
  {
   "cell_type": "code",
   "execution_count": 37,
   "id": "534df725",
   "metadata": {},
   "outputs": [],
   "source": [
    "from sklearn.model_selection import KFold\n",
    "from sklearn.metrics import mean_squared_error"
   ]
  },
  {
   "cell_type": "code",
   "execution_count": 41,
   "id": "0e51f9ad",
   "metadata": {},
   "outputs": [
    {
     "data": {
      "text/plain": [
       "10"
      ]
     },
     "execution_count": 41,
     "metadata": {},
     "output_type": "execute_result"
    }
   ],
   "source": [
    "kf = KFold(n_splits = 10)\n",
    "kf.get_n_splits(X,y)"
   ]
  },
  {
   "cell_type": "code",
   "execution_count": null,
   "id": "67396b0a",
   "metadata": {},
   "outputs": [],
   "source": [
    "mse = []\n",
    "train_scores = []\n",
    "test_scores = []\n",
    "\n",
    "for train_index,test_index in kf.split(X):\n",
    "    X_train,X_test = X.iloc[train_index], X.iloc[test_index]\n",
    "    y_train,y_test = y.iloc[train_index], y.iloc[test_index]\n",
    "    \n",
    "    clfs = RandomForestRegressor()\n",
    "    clfs.fit(X_train,np.ravel(y_train))\n",
    "    y_pred = clfs.predict(X_test)\n",
    "    mse.append(mean_squared_error(y_pred,y_test))\n",
    "    train_scores.append(clfs.score(X_train,y_train))\n",
    "    test_scores.append(clfs.score(X_test,y_test))\n",
    "    "
   ]
  },
  {
   "cell_type": "code",
   "execution_count": null,
   "id": "ae801067",
   "metadata": {},
   "outputs": [],
   "source": [
    "print(\"MSEs: \", mse)\n",
    "print(\"Average MSE: \", np.mean(mse))\n",
    "print(\"Train scores: \", train_scores)\n",
    "print(\"Averag train sconp.mean(train_scores))\n",
    "print(test_scores)\n",
    "print(np.mean(test_scores))"
   ]
  },
  {
   "cell_type": "code",
   "execution_count": 57,
   "id": "a632cd7f",
   "metadata": {},
   "outputs": [
    {
     "data": {
      "text/plain": [
       "0.9693531373543813"
      ]
     },
     "execution_count": 57,
     "metadata": {},
     "output_type": "execute_result"
    }
   ],
   "source": [
    "clfs.score(X_train,y_train)"
   ]
  },
  {
   "cell_type": "code",
   "execution_count": null,
   "id": "8e3c92aa",
   "metadata": {},
   "outputs": [],
   "source": []
  }
 ],
 "metadata": {
  "kernelspec": {
   "display_name": "Python 3",
   "language": "python",
   "name": "python3"
  },
  "language_info": {
   "codemirror_mode": {
    "name": "ipython",
    "version": 3
   },
   "file_extension": ".py",
   "mimetype": "text/x-python",
   "name": "python",
   "nbconvert_exporter": "python",
   "pygments_lexer": "ipython3",
   "version": "3.8.8"
  }
 },
 "nbformat": 4,
 "nbformat_minor": 5
}
